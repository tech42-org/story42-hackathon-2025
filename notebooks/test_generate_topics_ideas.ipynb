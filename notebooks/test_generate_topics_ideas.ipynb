{
  "cells": [
    {
      "cell_type": "markdown",
      "metadata": {},
      "source": [
        "# Generate Topics Ideas Endpoint Test\n",
        "\n",
        "This notebook demonstrates how to use the `/generate-topics-ideas` endpoint to get story ideas based on genre and topics.\n",
        "\n",
        "**Note**: Make sure to update the API_BASE_URL, CLIENT_ID, USERNAME, and PASSWORD with your actual values.\n"
      ]
    },
    {
      "cell_type": "markdown",
      "metadata": {},
      "source": [
        "## Setup and Authentication\n"
      ]
    },
    {
      "cell_type": "code",
      "execution_count": 9,
      "metadata": {},
      "outputs": [
        {
          "name": "stdout",
          "output_type": "stream",
          "text": [
            "✓ Configuration loaded\n"
          ]
        }
      ],
      "source": [
        "import os\n",
        "import json\n",
        "import requests\n",
        "import boto3\n",
        "from pprint import pprint\n",
        "from datetime import datetime\n",
        "\n",
        "# Set AWS environment\n",
        "os.environ['AWS_PROFILE'] = 'sandbox'\n",
        "os.environ['AWS_REGION'] = 'us-east-1'\n",
        "\n",
        "# API Configuration - UPDATE THESE VALUES\n",
        "API_BASE_URL = 'https://a3aflxx1o2.execute-api.us-east-1.amazonaws.com/dev'  # Update with your API Gateway URL\n",
        "CLIENT_ID = '1lsusuo902uhpki5tvggo6k16g'  # Update with your Cognito client ID\n",
        "USERNAME = 'admin@example.com'  # Update with your username\n",
        "PASSWORD = 'NewPassword123!'  # Update with your password\n",
        "\n",
        "print(\"✓ Configuration loaded\")\n"
      ]
    },
    {
      "cell_type": "code",
      "execution_count": 10,
      "metadata": {},
      "outputs": [
        {
          "name": "stdout",
          "output_type": "stream",
          "text": [
            "🔐 Getting authentication token...\n",
            "✓ Token obtained (1118 characters)\n",
            "✓ Authentication complete\n"
          ]
        }
      ],
      "source": [
        "# Get authentication token\n",
        "print(\"🔐 Getting authentication token...\")\n",
        "\n",
        "cognito_client = boto3.client('cognito-idp', region_name='us-east-1')\n",
        "\n",
        "auth_response = cognito_client.initiate_auth(\n",
        "    ClientId=CLIENT_ID,\n",
        "    AuthFlow='USER_PASSWORD_AUTH',\n",
        "    AuthParameters={\n",
        "        'USERNAME': USERNAME,\n",
        "        'PASSWORD': PASSWORD\n",
        "    }\n",
        ")\n",
        "\n",
        "TOKEN = auth_response['AuthenticationResult']['IdToken']\n",
        "print(f\"✓ Token obtained ({len(TOKEN)} characters)\")\n",
        "\n",
        "# Prepare headers for API calls\n",
        "headers = {\n",
        "    'Authorization': TOKEN,\n",
        "    'Content-Type': 'application/json'\n",
        "}\n",
        "\n",
        "print(\"✓ Authentication complete\")\n"
      ]
    },
    {
      "cell_type": "markdown",
      "metadata": {},
      "source": [
        "## Test 1: Fiction Story Ideas - Space Adventure\n"
      ]
    },
    {
      "cell_type": "code",
      "execution_count": 12,
      "metadata": {},
      "outputs": [
        {
          "name": "stdout",
          "output_type": "stream",
          "text": [
            "🚀 TEST 1: Fiction Story Ideas - Space Adventure\n",
            "======================================================================\n",
            "\n",
            "📤 Request payload:\n",
            "{'genre': 'fiction',\n",
            " 'job_id': 'topics-ideas-fiction-20251014-165727',\n",
            " 'model_id': 'bedrock/us.amazon.nova-pro-v1:0',\n",
            " 'topics': 'space exploration, alien encounters, and interstellar travel'}\n",
            "\n",
            "⏳ Sending request to generate story ideas...\n",
            "\n",
            "📥 Response Status: 200\n",
            "\n",
            "✅ SUCCESS - Story ideas generation successful\n",
            "\n",
            "💡 Story Ideas Response:\n",
            "{'authenticated_user': {'email': 'admin@example.com',\n",
            "                        'sub': '24e8e4f8-0061-70c1-0b17-2508a1b5b9a6',\n",
            "                        'username': '24e8e4f8-0061-70c1-0b17-2508a1b5b9a6'},\n",
            " 'request_id': 'dc438254-5008-4428-830e-a924ba88002c',\n",
            " 'result': {'metadata': {'created_timestamp': '2025-10-14T20:57:30.506233+00:00',\n",
            "                         'genre': 'fiction',\n",
            "                         'job_id': 'topics-ideas-fiction-20251014-165727',\n",
            "                         'model_id': 'bedrock/us.amazon.nova-pro-v1:0',\n",
            "                         'topics': 'space exploration, alien encounters, and '\n",
            "                                   'interstellar travel',\n",
            "                         'user_id': '24e8e4f8-0061-70c1-0b17-2508a1b5b9a6'},\n",
            "            'scope_coverage': 'Space exploration, alien encounters, and the '\n",
            "                              'challenges of interstellar travel',\n",
            "            'source_types': 'Science fiction literature, space exploration '\n",
            "                            'documentaries, and speculative science articles',\n",
            "            'structure': 'Three-act structure: departure, initiation, and '\n",
            "                         'return',\n",
            "            'subject_category': 'Science Fiction Adventure',\n",
            "            'target_audience': 'Young adults aged 12-18 and general adult '\n",
            "                               'audience',\n",
            "            'tone': 'Exciting and exploratory'},\n",
            " 'route': 'generate_topics_ideas',\n",
            " 'success': True}\n",
            "\n",
            "======================================================================\n",
            "📚 STORY IDEA DETAILS\n",
            "======================================================================\n",
            "\n",
            "📌 Subject Category: Science Fiction Adventure\n",
            "\n",
            "📖 Scope Coverage:\n",
            "Space exploration, alien encounters, and the challenges of interstellar travel\n",
            "\n",
            "🏗️  Structure:\n",
            "Three-act structure: departure, initiation, and return\n",
            "\n",
            "📚 Source Types:\n",
            "Science fiction literature, space exploration documentaries, and speculative science articles\n",
            "\n",
            "👥 Target Audience:\n",
            "Young adults aged 12-18 and general adult audience\n",
            "\n",
            "🎭 Tone:\n",
            "Exciting and exploratory\n"
          ]
        }
      ],
      "source": [
        "print(\"🚀 TEST 1: Fiction Story Ideas - Space Adventure\")\n",
        "print(\"=\" * 70)\n",
        "\n",
        "# Generate unique job ID\n",
        "job_id = f\"topics-ideas-fiction-{datetime.now().strftime('%Y%m%d-%H%M%S')}\"\n",
        "\n",
        "fiction_payload = {\n",
        "    \"genre\": \"fiction\",\n",
        "    \"topics\": \"space exploration, alien encounters, and interstellar travel\",\n",
        "    \"job_id\": job_id,\n",
        "    \"model_id\": \"bedrock/us.amazon.nova-pro-v1:0\"\n",
        "}\n",
        "\n",
        "print(\"\\n📤 Request payload:\")\n",
        "pprint(fiction_payload)\n",
        "\n",
        "print(\"\\n⏳ Sending request to generate story ideas...\")\n",
        "response = requests.post(\n",
        "    f\"{API_BASE_URL}/generate-topics-ideas\",\n",
        "    headers=headers,\n",
        "    json=fiction_payload\n",
        ")\n",
        "\n",
        "print(f\"\\n📥 Response Status: {response.status_code}\")\n",
        "\n",
        "if response.status_code == 200:\n",
        "    fiction_response = response.json()\n",
        "    print(\"\\n✅ SUCCESS - Story ideas generation successful\")\n",
        "    print(\"\\n💡 Story Ideas Response:\")\n",
        "    pprint(fiction_response)\n",
        "    \n",
        "    # Extract result details\n",
        "    result = fiction_response['result']\n",
        "    \n",
        "    print(\"\\n\" + \"=\" * 70)\n",
        "    print(\"📚 STORY IDEA DETAILS\")\n",
        "    print(\"=\" * 70)\n",
        "    print(f\"\\n📌 Subject Category: {result['subject_category']}\")\n",
        "    print(f\"\\n📖 Scope Coverage:\\n{result['scope_coverage']}\")\n",
        "    print(f\"\\n🏗️  Structure:\\n{result['structure']}\")\n",
        "    print(f\"\\n📚 Source Types:\\n{result['source_types']}\")\n",
        "    print(f\"\\n👥 Target Audience:\\n{result['target_audience']}\")\n",
        "    print(f\"\\n🎭 Tone:\\n{result['tone']}\")\n",
        "    \n",
        "else:\n",
        "    print(f\"\\n❌ FAILED - Expected 200 but got {response.status_code}\")\n",
        "    print(\"\\nError response:\")\n",
        "    pprint(response.json())\n"
      ]
    },
    {
      "cell_type": "markdown",
      "metadata": {},
      "source": []
    }
  ],
  "metadata": {
    "kernelspec": {
      "display_name": "hack2025",
      "language": "python",
      "name": "python3"
    },
    "language_info": {
      "codemirror_mode": {
        "name": "ipython",
        "version": 3
      },
      "file_extension": ".py",
      "mimetype": "text/x-python",
      "name": "python",
      "nbconvert_exporter": "python",
      "pygments_lexer": "ipython3",
      "version": "3.12.11"
    }
  },
  "nbformat": 4,
  "nbformat_minor": 2
}
